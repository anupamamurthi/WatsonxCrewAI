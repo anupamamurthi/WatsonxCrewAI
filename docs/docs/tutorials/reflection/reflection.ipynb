{
  "cells": [
    {
      "cell_type": "markdown",
      "id": "492f050f-3dc3-44fa-8fdc-03362afd5488",
      "metadata": {
        "id": "492f050f-3dc3-44fa-8fdc-03362afd5488"
      },
      "source": [
        "# Reflection\n",
        "\n",
        "\n",
        "In the context of LLM agent building, reflection refers to the process of prompting an LLM to observe its past steps (along with potential observations from tools/the environment) to assess the quality of the chosen actions.\n",
        "This is then used downstream for things like re-planning, search, or evaluation.\n",
        "\n",
        "![Reflection](attachment:fc393f72-3401-4b86-b0d3-e4789b640a27.png)\n",
        "\n",
        "This notebook demonstrates a very simple form of reflection in LangGraph."
      ]
    },
    {
      "cell_type": "markdown",
      "id": "3ef94e7e-c9a5-4eee-a865-acf411b5c235",
      "metadata": {
        "id": "3ef94e7e-c9a5-4eee-a865-acf411b5c235"
      },
      "source": [
        "## Setup\n",
        "\n",
        "First, let's install our required packages and set our API keys"
      ]
    },
    {
      "cell_type": "code",
      "execution_count": 1,
      "id": "8b323f43-328b-4b4b-88b0-6c84dc0a1d60",
      "metadata": {
        "id": "8b323f43-328b-4b4b-88b0-6c84dc0a1d60",
        "outputId": "fa306801-527f-4668-805a-b2a121a91ed0",
        "colab": {
          "base_uri": "https://localhost:8080/"
        }
      },
      "outputs": [
        {
          "output_type": "stream",
          "name": "stdout",
          "text": [
            "\u001b[2K     \u001b[90m━━━━━━━━━━━━━━━━━━━━━━━━━━━━━━━━━━━━━━━━\u001b[0m \u001b[32m43.5/43.5 kB\u001b[0m \u001b[31m1.2 MB/s\u001b[0m eta \u001b[36m0:00:00\u001b[0m\n",
            "\u001b[2K   \u001b[90m━━━━━━━━━━━━━━━━━━━━━━━━━━━━━━━━━━━━━━━━\u001b[0m \u001b[32m151.2/151.2 kB\u001b[0m \u001b[31m3.3 MB/s\u001b[0m eta \u001b[36m0:00:00\u001b[0m\n",
            "\u001b[2K   \u001b[90m━━━━━━━━━━━━━━━━━━━━━━━━━━━━━━━━━━━━━━━━\u001b[0m \u001b[32m112.6/112.6 kB\u001b[0m \u001b[31m3.8 MB/s\u001b[0m eta \u001b[36m0:00:00\u001b[0m\n",
            "\u001b[2K   \u001b[90m━━━━━━━━━━━━━━━━━━━━━━━━━━━━━━━━━━━━━━━━\u001b[0m \u001b[32m42.3/42.3 kB\u001b[0m \u001b[31m1.8 MB/s\u001b[0m eta \u001b[36m0:00:00\u001b[0m\n",
            "\u001b[2K   \u001b[90m━━━━━━━━━━━━━━━━━━━━━━━━━━━━━━━━━━━━━━━━\u001b[0m \u001b[32m47.6/47.6 kB\u001b[0m \u001b[31m2.4 MB/s\u001b[0m eta \u001b[36m0:00:00\u001b[0m\n",
            "\u001b[2K   \u001b[90m━━━━━━━━━━━━━━━━━━━━━━━━━━━━━━━━━━━━━━━━\u001b[0m \u001b[32m194.8/194.8 kB\u001b[0m \u001b[31m7.1 MB/s\u001b[0m eta \u001b[36m0:00:00\u001b[0m\n",
            "\u001b[2K   \u001b[90m━━━━━━━━━━━━━━━━━━━━━━━━━━━━━━━━━━━━━━━━\u001b[0m \u001b[32m223.6/223.6 kB\u001b[0m \u001b[31m7.7 MB/s\u001b[0m eta \u001b[36m0:00:00\u001b[0m\n",
            "\u001b[2K   \u001b[90m━━━━━━━━━━━━━━━━━━━━━━━━━━━━━━━━━━━━━━━━\u001b[0m \u001b[32m1.2/1.2 MB\u001b[0m \u001b[31m14.6 MB/s\u001b[0m eta \u001b[36m0:00:00\u001b[0m\n",
            "\u001b[?25h"
          ]
        }
      ],
      "source": [
        "%pip install -U --quiet  langgraph langchain-fireworks\n",
        "%pip install -U --quiet tavily-python"
      ]
    },
    {
      "cell_type": "code",
      "execution_count": 2,
      "id": "3368f330-cad6-4d35-a291-68fbf4389d98",
      "metadata": {
        "id": "3368f330-cad6-4d35-a291-68fbf4389d98",
        "outputId": "ba23624c-e4d8-47b7-af4d-7fd591fe4cad",
        "colab": {
          "base_uri": "https://localhost:8080/"
        }
      },
      "outputs": [
        {
          "name": "stdout",
          "output_type": "stream",
          "text": [
            "TAVILY_API_KEY··········\n",
            "FIREWORKS_API_KEY··········\n"
          ]
        }
      ],
      "source": [
        "import getpass\n",
        "import os\n",
        "\n",
        "\n",
        "def _set_if_undefined(var: str) -> None:\n",
        "    if os.environ.get(var):\n",
        "        return\n",
        "    os.environ[var] = getpass.getpass(var)\n",
        "\n",
        "\n",
        "_set_if_undefined(\"TAVILY_API_KEY\")\n",
        "_set_if_undefined(\"FIREWORKS_API_KEY\")"
      ]
    },
    {
      "cell_type": "markdown",
      "id": "9182b7d5",
      "metadata": {
        "id": "9182b7d5"
      },
      "source": [
        "<div class=\"admonition tip\">\n",
        "    <p class=\"admonition-title\">Set up <a href=\"https://smith.langchain.com\">LangSmith</a> for LangGraph development</p>\n",
        "    <p style=\"padding-top: 5px;\">\n",
        "        Sign up for LangSmith to quickly spot issues and improve the performance of your LangGraph projects. LangSmith lets you use trace data to debug, test, and monitor your LLM apps built with LangGraph — read more about how to get started <a href=\"https://docs.smith.langchain.com\">here</a>.\n",
        "    </p>\n",
        "</div>"
      ]
    },
    {
      "cell_type": "markdown",
      "id": "f27bcc4a-aaa5-46bd-8163-3e0e90cb66e6",
      "metadata": {
        "id": "f27bcc4a-aaa5-46bd-8163-3e0e90cb66e6"
      },
      "source": [
        "## Generate\n",
        "\n",
        "For our example, we will create a \"5 paragraph essay\" generator. First, create the generator:\n"
      ]
    },
    {
      "cell_type": "code",
      "execution_count": 6,
      "id": "cc10028f-9cef-4936-9419-cbdf06d24f1e",
      "metadata": {
        "id": "cc10028f-9cef-4936-9419-cbdf06d24f1e"
      },
      "outputs": [],
      "source": [
        "from langchain_core.messages import AIMessage, BaseMessage, HumanMessage\n",
        "from langchain_core.prompts import ChatPromptTemplate, MessagesPlaceholder\n",
        "from langchain_fireworks import ChatFireworks\n",
        "\n",
        "prompt = ChatPromptTemplate.from_messages(\n",
        "    [\n",
        "        (\n",
        "            \"system\",\n",
        "            \"You are an essay assistant tasked with writing excellent 5-paragraph essays.\"\n",
        "            \" Generate the best essay possible for the user's request.\"\n",
        "            \" If the user provides critique, respond with a revised version of your previous attempts.\",\n",
        "        ),\n",
        "        MessagesPlaceholder(variable_name=\"messages\"),\n",
        "    ]\n",
        ")\n",
        "llm = ChatFireworks(\n",
        "    model=\"accounts/fireworks/models/llama4-maverick-instruct-basic\", max_tokens=32768\n",
        ")\n",
        "generate = prompt | llm"
      ]
    },
    {
      "cell_type": "code",
      "execution_count": 7,
      "id": "9bbe25dc-fd1e-4ed5-a3c8-fed830b46d12",
      "metadata": {
        "id": "9bbe25dc-fd1e-4ed5-a3c8-fed830b46d12",
        "outputId": "94833850-cc4b-4bf1-efd0-78b27d5f8f6a",
        "colab": {
          "base_uri": "https://localhost:8080/"
        }
      },
      "outputs": [
        {
          "output_type": "stream",
          "name": "stdout",
          "text": [
            "The Little Prince, a novella written by Antoine de Saint-Exupéry, has been a beloved tale among children and adults alike since its publication in 1943. Despite being written over seven decades ago, the story remains remarkably relevant in modern childhood. One of the primary reasons for its enduring relevance is its exploration of complex themes such as friendship, love, and the importance of human connections. The Little Prince's poignant portrayal of the protagonist's journey and his interactions with various characters serves as a powerful reminder to children of the value of nurturing meaningful relationships in their own lives.\n",
            "\n",
            "In today's digital age, children are increasingly surrounded by technology and social media, which can often create a false sense of connection. The Little Prince's emphasis on the importance of genuine, face-to-face relationships is a valuable lesson for children growing up in this environment. The prince's experiences with the rose, in particular, illustrate the depth of emotional connection that can be formed through shared experiences and mutual understanding. By highlighting the beauty and significance of these relationships, the story encourages children to prioritize building strong, meaningful bonds with others.\n",
            "\n",
            "The novella also tackles the issue of adult superficiality, as embodied by the various characters the Little Prince encounters on his journey. The businessman, the geographer, and the king, among others, are all depicted as being obsessed with trivialities and lacking in genuine understanding or empathy. This serves as a commentary on the tendency for adults to become mired in their own pursuits and lose sight of what truly matters. For modern children, this serves as a warning about the dangers of growing up too quickly and losing touch with their own sense of wonder and curiosity. By illustrating the consequences of prioritizing material possessions and status over meaningful relationships, The Little Prince encourages children to stay grounded and focused on what is truly important.\n",
            "\n",
            "Furthermore, The Little Prince's exploration of the human condition and the complexities of growing up continues to resonate with children today. The protagonist's struggles to come to terms with his own emotions and the challenges of adulthood serve as a powerful allegory for the difficulties that children face as they navigate their own transitions. The story's use of symbolism and metaphor adds depth and nuance to its exploration of these themes, making it accessible to children while still conveying complex ideas and emotions.\n",
            "\n",
            "In conclusion, The Little Prince remains a vital and relevant tale for modern childhood. Its exploration of complex themes, its emphasis on the importance of human connections, and its commentary on adult superficiality all serve to make it a valuable and thought-provoking read for children today. By introducing children to this timeless classic, we can help them develop a deeper understanding of themselves and the world around them, and encourage them to prioritize the things that truly matter in life. As a result, The Little Prince continues to be an essential part of many children's literary journeys, and its relevance shows no signs of fading anytime soon."
          ]
        }
      ],
      "source": [
        "essay = \"\"\n",
        "request = HumanMessage(\n",
        "    content=\"Write an essay on why the little prince is relevant in modern childhood\"\n",
        ")\n",
        "for chunk in generate.stream({\"messages\": [request]}):\n",
        "    print(chunk.content, end=\"\")\n",
        "    essay += chunk.content"
      ]
    },
    {
      "cell_type": "markdown",
      "id": "b0b276e7-c392-4eec-be75-c77bd130379d",
      "metadata": {
        "id": "b0b276e7-c392-4eec-be75-c77bd130379d"
      },
      "source": [
        "### Reflect"
      ]
    },
    {
      "cell_type": "code",
      "execution_count": 8,
      "id": "a705be92-88c0-4f4f-b4c2-cdcd9af8cb2c",
      "metadata": {
        "id": "a705be92-88c0-4f4f-b4c2-cdcd9af8cb2c"
      },
      "outputs": [],
      "source": [
        "reflection_prompt = ChatPromptTemplate.from_messages(\n",
        "    [\n",
        "        (\n",
        "            \"system\",\n",
        "            \"You are a teacher grading an essay submission. Generate critique and recommendations for the user's submission.\"\n",
        "            \" Provide detailed recommendations, including requests for length, depth, style, etc.\",\n",
        "        ),\n",
        "        MessagesPlaceholder(variable_name=\"messages\"),\n",
        "    ]\n",
        ")\n",
        "reflect = reflection_prompt | llm"
      ]
    },
    {
      "cell_type": "code",
      "execution_count": 9,
      "id": "16c5eb2a-8bce-48ab-b87d-9dacb9b64ac6",
      "metadata": {
        "id": "16c5eb2a-8bce-48ab-b87d-9dacb9b64ac6",
        "outputId": "78092829-6714-4a74-84d3-19dd78da95aa",
        "colab": {
          "base_uri": "https://localhost:8080/"
        }
      },
      "outputs": [
        {
          "output_type": "stream",
          "name": "stdout",
          "text": [
            "**Critique and Recommendations**\n",
            "\n",
            "The essay effectively explores the relevance of The Little Prince in modern childhood, highlighting its timeless themes and messages. Here's a detailed critique and recommendations for improvement:\n",
            "\n",
            "**Strengths:**\n",
            "\n",
            "1. The essay clearly articulates the novella's enduring relevance and its significance in modern childhood.\n",
            "2. The writer provides specific examples from the novella to support their arguments, demonstrating a good understanding of the text.\n",
            "3. The essay is well-structured and easy to follow, with a logical flow of ideas.\n",
            "\n",
            "**Weaknesses:**\n",
            "\n",
            "1. The essay is somewhat superficial in its analysis, and the writer could benefit from delving deeper into the themes and symbolism of The Little Prince.\n",
            "2. The writing is clear but lacks a distinctive voice and style, making it somewhat generic.\n",
            "3. Some paragraphs feel a bit formulaic, with a straightforward topic sentence followed by supporting evidence.\n",
            "\n",
            "**Recommendations:**\n",
            "\n",
            "1. **Depth of Analysis:** To take the essay to the next level, consider exploring the themes and symbolism of The Little Prince in more nuance. For example, you could analyze the rose as a symbol of love, vulnerability, and the human condition. You could also examine the character of the fox and his significance in the story.\n",
            "2. **Style and Voice:** To make the essay more engaging, consider adopting a more distinctive writing style. Use more vivid language, metaphors, and imagery to bring the analysis to life. For instance, instead of saying \"the novella's exploration of complex themes,\" you could say \"The Little Prince's poignant and piercing exploration of the human experience.\"\n",
            "3. **Length and Structure:** The essay is a good length, but consider expanding it to around 750-800 words to allow for more in-depth analysis and exploration of the themes. You could also experiment with different paragraph structures, such as using more complex sentence structures or incorporating counterarguments to strengthen your analysis.\n",
            "4. **Specificity and Examples:** While the essay provides some good examples from the novella, consider incorporating more specific details and anecdotes to illustrate your points. For example, you could describe a specific scene or character interaction that illustrates the theme you're discussing.\n",
            "5. **Conclusion:** The conclusion effectively summarizes the main points, but consider making it more impactful by ending with a thought-provoking question or a call to action. For example, you could ask readers to reflect on how they can apply the lessons of The Little Prince to their own lives.\n",
            "\n",
            "**Additional Suggestions:**\n",
            "\n",
            "1. Consider incorporating more contemporary examples or references to illustrate the relevance of The Little Prince in modern childhood. For instance, you could discuss how the novella's themes relate to current issues in childhood education or social media.\n",
            "2. Use more precise and technical vocabulary when discussing literary devices and themes. For example, instead of saying \"symbolism,\" you could use terms like \"allegory\" or \" metaphorical resonance.\"\n",
            "3. To add more complexity to the analysis, consider incorporating different critical perspectives or theoretical frameworks, such as psychoanalytic or sociological interpretations.\n",
            "\n",
            "By addressing these areas, you can create a more nuanced, engaging, and sophisticated essay that showcases your understanding of The Little Prince and its relevance in modern childhood."
          ]
        }
      ],
      "source": [
        "reflection = \"\"\n",
        "for chunk in reflect.stream({\"messages\": [request, HumanMessage(content=essay)]}):\n",
        "    print(chunk.content, end=\"\")\n",
        "    reflection += chunk.content"
      ]
    },
    {
      "cell_type": "markdown",
      "id": "6daf926c-1174-4e96-91b9-57c57cfce40d",
      "metadata": {
        "id": "6daf926c-1174-4e96-91b9-57c57cfce40d"
      },
      "source": [
        "### Repeat\n",
        "\n",
        "And... that's all there is too it! You can repeat in a loop for a fixed number of steps, or use an LLM (or other check) to decide when the finished product is good enough."
      ]
    },
    {
      "cell_type": "code",
      "execution_count": 10,
      "id": "dfbf99a8-3aa0-4e09-936e-8452c35fa84d",
      "metadata": {
        "id": "dfbf99a8-3aa0-4e09-936e-8452c35fa84d",
        "outputId": "a75edcdd-03e5-46b2-a0d3-fb85e999df97",
        "colab": {
          "base_uri": "https://localhost:8080/"
        }
      },
      "outputs": [
        {
          "output_type": "stream",
          "name": "stdout",
          "text": [
            "The Little Prince, a novella written by Antoine de Saint-Exupéry, has been a beloved tale among children and adults alike since its publication in 1943. Despite being written over seven decades ago, the story remains remarkably relevant in modern childhood, its themes and messages continuing to resonate with young readers. One of the primary reasons for its enduring relevance is its poignant and piercing exploration of the human experience, delving into complex themes such as friendship, love, and the importance of human connections. The Little Prince's journey, marked by his encounters with various characters, serves as a powerful allegory for the challenges and complexities of growing up, and the significance of nurturing meaningful relationships in one's life.\n",
            "\n",
            "In today's digital age, children are increasingly surrounded by technology and social media, which can often create a false sense of connection. The Little Prince's emphasis on the importance of genuine, face-to-face relationships is a valuable lesson for children growing up in this environment. The prince's experiences with the rose, in particular, illustrate the depth of emotional connection that can be formed through shared experiences and mutual understanding. The rose, a symbol of love, vulnerability, and the human condition, serves as a powerful reminder of the beauty and significance of these relationships. By highlighting the importance of these connections, the story encourages children to prioritize building strong, meaningful bonds with others, and to be mindful of the superficiality that can often accompany adult life.\n",
            "\n",
            "The novella's portrayal of adult superficiality, as embodied by the various characters the Little Prince encounters on his journey, is a scathing commentary on the tendency for adults to become mired in their own pursuits and lose sight of what truly matters. The businessman, the geographer, and the king, among others, are all depicted as being obsessed with trivialities and lacking in genuine understanding or empathy. This serves as a warning to children about the dangers of growing up too quickly and losing touch with their own sense of wonder and curiosity. Furthermore, the character of the fox, with his wisdom and insight, serves as a counterpoint to these characters, highlighting the importance of slowing down and appreciating the beauty in the world around us. By illustrating the consequences of prioritizing material possessions and status over meaningful relationships, The Little Prince encourages children to stay grounded and focused on what is truly important.\n",
            "\n",
            "The novella's exploration of the human condition and the complexities of growing up continues to resonate with children today. The protagonist's struggles to come to terms with his own emotions and the challenges of adulthood serve as a powerful allegory for the difficulties that children face as they navigate their own transitions. The story's use of symbolism and metaphor adds depth and nuance to its exploration of these themes, making it accessible to children while still conveying complex ideas and emotions. For example, the Little Prince's journey can be seen as a metaphor for the journey of self-discovery that children undertake as they grow and mature. By exploring these themes and symbolism in more depth, we can gain a deeper understanding of the novella's enduring relevance and its significance in modern childhood.\n",
            "\n",
            "In conclusion, The Little Prince remains a vital and relevant tale for modern childhood, its exploration of complex themes, its emphasis on the importance of human connections, and its commentary on adult superficiality all serving to make it a valuable and thought-provoking read for children today. As we continue to navigate the complexities of modern childhood, it is more important than ever that we introduce children to this timeless classic, and encourage them to reflect on the lessons it has to offer. By doing so, we can help children develop a deeper understanding of themselves and the world around them, and inspire them to prioritize the things that truly matter in life. As we look to the future, it is clear that The Little Prince will continue to be an essential part of many children's literary journeys, its relevance and significance enduring for generations to come."
          ]
        }
      ],
      "source": [
        "for chunk in generate.stream(\n",
        "    {\"messages\": [request, AIMessage(content=essay), HumanMessage(content=reflection)]}\n",
        "):\n",
        "    print(chunk.content, end=\"\")"
      ]
    },
    {
      "cell_type": "markdown",
      "id": "b63a9d93-a14d-4e41-a4bb-a4cd31713f44",
      "metadata": {
        "id": "b63a9d93-a14d-4e41-a4bb-a4cd31713f44"
      },
      "source": [
        "## Define graph\n",
        "\n",
        "Now that we've shown each step in isolation, we can wire it up in a graph."
      ]
    },
    {
      "cell_type": "code",
      "execution_count": 11,
      "id": "9e9a9d7c-5d2e-4194-b745-4511ec20db76",
      "metadata": {
        "id": "9e9a9d7c-5d2e-4194-b745-4511ec20db76"
      },
      "outputs": [],
      "source": [
        "from typing import Annotated, List, Sequence\n",
        "from langgraph.graph import END, StateGraph, START\n",
        "from langgraph.graph.message import add_messages\n",
        "from langgraph.checkpoint.memory import MemorySaver\n",
        "from typing_extensions import TypedDict\n",
        "\n",
        "\n",
        "class State(TypedDict):\n",
        "    messages: Annotated[list, add_messages]\n",
        "\n",
        "\n",
        "async def generation_node(state: State) -> State:\n",
        "    return {\"messages\": [await generate.ainvoke(state[\"messages\"])]}\n",
        "\n",
        "\n",
        "async def reflection_node(state: State) -> State:\n",
        "    # Other messages we need to adjust\n",
        "    cls_map = {\"ai\": HumanMessage, \"human\": AIMessage}\n",
        "    # First message is the original user request. We hold it the same for all nodes\n",
        "    translated = [state[\"messages\"][0]] + [\n",
        "        cls_map[msg.type](content=msg.content) for msg in state[\"messages\"][1:]\n",
        "    ]\n",
        "    res = await reflect.ainvoke(translated)\n",
        "    # We treat the output of this as human feedback for the generator\n",
        "    return {\"messages\": [HumanMessage(content=res.content)]}\n",
        "\n",
        "\n",
        "builder = StateGraph(State)\n",
        "builder.add_node(\"generate\", generation_node)\n",
        "builder.add_node(\"reflect\", reflection_node)\n",
        "builder.add_edge(START, \"generate\")\n",
        "\n",
        "\n",
        "def should_continue(state: State):\n",
        "    if len(state[\"messages\"]) > 6:\n",
        "        # End after 3 iterations\n",
        "        return END\n",
        "    return \"reflect\"\n",
        "\n",
        "\n",
        "builder.add_conditional_edges(\"generate\", should_continue)\n",
        "builder.add_edge(\"reflect\", \"generate\")\n",
        "memory = MemorySaver()\n",
        "graph = builder.compile(checkpointer=memory)"
      ]
    },
    {
      "cell_type": "code",
      "execution_count": 12,
      "id": "010ce60a-8b7d-4258-99d1-52705146844f",
      "metadata": {
        "id": "010ce60a-8b7d-4258-99d1-52705146844f"
      },
      "outputs": [],
      "source": [
        "config = {\"configurable\": {\"thread_id\": \"1\"}}"
      ]
    },
    {
      "cell_type": "code",
      "execution_count": 13,
      "id": "06263a07-8a15-4ec3-b692-1c6cef3b1c1f",
      "metadata": {
        "scrolled": true,
        "id": "06263a07-8a15-4ec3-b692-1c6cef3b1c1f",
        "outputId": "3de8788e-b665-4f37-c3fe-bf1126f66882",
        "colab": {
          "base_uri": "https://localhost:8080/"
        }
      },
      "outputs": [
        {
          "output_type": "stream",
          "name": "stdout",
          "text": [
            "{'generate': {'messages': [AIMessage(content='The novella \"The Little Prince\" by Antoine de Saint-Exupéry has been a timeless classic since its publication in 1943. The story follows the journey of a young prince as he travels from his own planet to Earth, learning valuable lessons about friendship, love, and what truly matters in life. Despite being written over 75 years ago, \"The Little Prince\" remains remarkably topical, and its message continues to resonate with readers of all ages in modern life. One of the primary reasons for its enduring relevance is its thoughtful exploration of the human condition, which transcends time and cultural boundaries.\\n\\nAt its core, \"The Little Prince\" is a poignant critique of modern society\\'s values and priorities. The little prince\\'s encounters with various characters on his journey serve as a commentary on the superficiality and materialism that can pervade human relationships. The prince\\'s interactions with the businessman, who is obsessed with counting stars, and the geographer, who is more concerned with maps than the actual world, highlight the absurdity of prioritizing trivial pursuits over meaningful connections. These themes are just as relevant today, as people increasingly spend more time staring at their screens and less time engaging with the world around them. The novella reminds readers of the importance of slowing down, appreciating the beauty in simplicity, and cultivating genuine relationships.\\n\\nThe little prince\\'s relationship with the rose on his own planet is another crucial aspect of the story that speaks to modern life. The rose, with its beauty and fragility, represents the importance of emotional connection and vulnerability in human relationships. The little prince\\'s love for the rose teaches him that true connection requires investment, care, and responsibility. In an era where social media often presents a curated version of people\\'s lives, \"The Little Prince\" encourages readers to look beyond the surface level and appreciate the beauty in imperfection. By embracing vulnerability and imperfection, we can form deeper, more meaningful connections with others.\\n\\nThe novella also explores the tension between individuality and conformity, a theme that remains highly relevant in today\\'s society. The little prince\\'s unique perspective and experiences are often at odds with the conventional wisdom of the adults he meets on his journey. This serves as a reminder that individuality and nonconformity are essential to personal growth and innovation. In a world where there is increasing pressure to conform to societal norms and expectations, \"The Little Prince\" encourages readers to think for themselves, challenge the status quo, and stay true to their own values and passions.\\n\\nIn conclusion, \"The Little Prince\" is a timeless classic that continues to captivate readers with its universal themes and poignant insights. The novella\\'s exploration of human relationships, individuality, and the importance of slowing down in a fast-paced world makes it a remarkably topical work for modern life. As readers continue to be drawn to the little prince\\'s journey, they are reminded of the value of simplicity, vulnerability, and genuine connection. By heeding the lessons of \"The Little Prince,\" we can cultivate a more authentic, compassionate, and meaningful way of living, one that prioritizes what truly matters in life.', additional_kwargs={}, response_metadata={'token_usage': {'prompt_tokens': 73, 'total_tokens': 700, 'completion_tokens': 627}, 'model_name': 'accounts/fireworks/models/llama4-maverick-instruct-basic', 'system_fingerprint': '', 'finish_reason': 'stop', 'logprobs': None}, id='run-4deaee8a-4d04-45f6-8ccd-5f9c8f9ccc07-0', usage_metadata={'input_tokens': 73, 'output_tokens': 627, 'total_tokens': 700})]}}\n",
            "---\n",
            "{'reflect': {'messages': [HumanMessage(content='**Critique and Recommendations**\\n\\nThe provided essay is a good starting point for exploring the topicality of \"The Little Prince\" and its message in modern life. The writer effectively summarizes the novella\\'s themes and connects them to contemporary issues, demonstrating a clear understanding of the text.\\n\\n**Strengths:**\\n\\n* The essay effectively identifies the novella\\'s timeless themes and connects them to modern life, making it relatable and relevant to contemporary readers.\\n* The writer provides specific examples from the novella to support their arguments, demonstrating a good understanding of the text.\\n* The essay is well-structured and easy to follow, with a clear introduction, body, and conclusion.\\n\\n**Weaknesses:**\\n\\n* The essay is somewhat superficial in its analysis, relying on general statements and observations rather than in-depth critical analysis.\\n* Some paragraphs feel a bit disconnected, and the writer could benefit from using more cohesive linking phrases to guide the reader through the essay.\\n* The language is clear, but not particularly engaging or nuanced, which can make the essay feel a bit dry.\\n\\n**Recommendations:**\\n\\n1. **Deepen the analysis**: To take the essay to the next level, the writer should provide more nuanced and critical analysis of the novella\\'s themes and their relevance to modern life. For example, they could explore the psychological or philosophical underpinnings of the little prince\\'s experiences, or examine the ways in which the novella\\'s critique of modern society is both timely and timeless.\\n2. **Use more sophisticated language**: To engage the reader more effectively, the writer should aim to use more varied and sophisticated vocabulary, as well as more complex sentence structures. This will help to create a more dynamic and interesting reading experience.\\n3. **Improve cohesion and linking**: To improve the essay\\'s flow and cohesion, the writer should use more transitional phrases and sentences to connect the different paragraphs and ideas. This will help to create a more seamless and logical argument.\\n4. **Consider alternative perspectives**: To add depth and complexity to the essay, the writer could consider alternative perspectives on the novella\\'s themes and their relevance to modern life. For example, they could explore potential counterarguments or criticisms of the novella\\'s message, or examine the ways in which different readers or cultures might interpret the text.\\n5. **Expand the essay\\'s scope**: To provide a more comprehensive analysis, the writer could consider exploring additional themes or aspects of the novella, such as its use of symbolism, its exploration of existential or philosophical themes, or its relevance to specific contemporary issues or debates.\\n\\n**Specific Requests:**\\n\\n* Expand the essay to around 750-1000 words to allow for more in-depth analysis and exploration of the novella\\'s themes.\\n* Include more specific examples and quotes from the novella to support the writer\\'s arguments.\\n* Use more nuanced and critical language to analyze the novella\\'s themes and their relevance to modern life.\\n* Consider incorporating more contemporary references or examples to illustrate the novella\\'s ongoing relevance.\\n\\nBy implementing these recommendations, the writer can create a more sophisticated, engaging, and comprehensive essay that showcases their understanding of \"The Little Prince\" and its ongoing relevance to modern life.', additional_kwargs={}, response_metadata={}, id='14cab3a6-5099-46cc-b42d-b01b37dd58d1')]}}\n",
            "---\n",
            "{'generate': {'messages': [AIMessage(content='The novella \"The Little Prince\" by Antoine de Saint-Exupéry has been a timeless classic since its publication in 1943. The story follows the journey of a young prince as he travels from his own planet to Earth, learning valuable lessons about friendship, love, and what truly matters in life. As a poignant critique of modern society\\'s values and priorities, \"The Little Prince\" remains remarkably topical, and its message continues to resonate with readers of all ages in modern life. One of the primary reasons for its enduring relevance is its thoughtful exploration of the human condition, which transcends time and cultural boundaries. By examining the novella\\'s themes and their relevance to contemporary issues, we can gain a deeper understanding of the ongoing significance of \"The Little Prince\" in modern life.\\n\\nAt its core, \"The Little Prince\" is a scathing critique of the superficiality and materialism that can pervade human relationships. The little prince\\'s encounters with various characters on his journey serve as a commentary on the ways in which adults often prioritize trivial pursuits over meaningful connections. For instance, the businessman\\'s obsessive counting of stars, which he believes he owns, is a potent symbol of the ways in which material possessions and wealth can become all-consuming. As the little prince observes, \"You adults are quite ridiculous... You love numbers, but you don\\'t love the things that numbers represent.\" This critique is particularly relevant in today\\'s society, where social media often presents a curated version of people\\'s lives, and individuals are increasingly encouraged to prioritize their online persona over their real-life relationships. By highlighting the absurdity of prioritizing trivial pursuits over meaningful connections, \"The Little Prince\" encourages readers to reevaluate their own values and priorities.\\n\\nFurthermore, the novella\\'s exploration of the tension between individuality and conformity is a theme that remains highly relevant in today\\'s society. The little prince\\'s unique perspective and experiences are often at odds with the conventional wisdom of the adults he meets on his journey, highlighting the importance of staying true to one\\'s own values and passions. As the fox tells the little prince, \"You become responsible, forever, for what you have tamed.\" This message is particularly relevant in an era where there is increasing pressure to conform to societal norms and expectations. By embracing individuality and nonconformity, we can foster a more authentic and innovative culture, where people are encouraged to think for themselves and challenge the status quo. Moreover, the novella\\'s use of symbolism, particularly the rose, serves as a powerful reminder of the importance of emotional connection and vulnerability in human relationships. The rose, with its beauty and fragility, represents the ways in which human connections can be both precious and precarious.\\n\\nThe little prince\\'s relationship with the rose also highlights the complexities of human emotions and relationships. The little prince\\'s love for the rose is a powerful example of the ways in which emotional connection can be both a source of joy and a source of pain. As the little prince comes to realize, \"It is the time you have wasted for your rose that makes your rose so important.\" This message is particularly relevant in today\\'s society, where people are increasingly encouraged to prioritize their emotional well-being and cultivate meaningful relationships. By exploring the complexities of human emotions and relationships, \"The Little Prince\" provides a nuanced and thought-provoking examination of what it means to be human. Additionally, the novella\\'s exploration of existential themes, such as the meaning of life and the importance of human connection, adds depth and complexity to its message.\\n\\nIn conclusion, \"The Little Prince\" is a timeless classic that continues to captivate readers with its universal themes and poignant insights. The novella\\'s exploration of human relationships, individuality, and the importance of slowing down in a fast-paced world makes it a remarkably topical work for modern life. As readers continue to be drawn to the little prince\\'s journey, they are reminded of the value of simplicity, vulnerability, and genuine connection. By heeding the lessons of \"The Little Prince,\" we can cultivate a more authentic, compassionate, and meaningful way of living, one that prioritizes what truly matters in life. Ultimately, the novella\\'s ongoing relevance is a testament to the power of literature to transcend time and cultural boundaries, speaking to fundamental aspects of the human experience that remain unchanged despite the passage of time. As such, \"The Little Prince\" remains an essential work for readers of all ages, offering a profound and thought-provoking exploration of what it means to be human.', additional_kwargs={}, response_metadata={'token_usage': {'prompt_tokens': 1345, 'total_tokens': 2252, 'completion_tokens': 907}, 'model_name': 'accounts/fireworks/models/llama4-maverick-instruct-basic', 'system_fingerprint': '', 'finish_reason': 'stop', 'logprobs': None}, id='run-b6e201cc-f7e2-41aa-a6d9-4656fc1d7db6-0', usage_metadata={'input_tokens': 1345, 'output_tokens': 907, 'total_tokens': 2252})]}}\n",
            "---\n",
            "{'reflect': {'messages': [HumanMessage(content='**Critique and Recommendations**\\n\\nThe revised essay demonstrates significant improvements in terms of depth, analysis, and style. The writer has effectively incorporated more nuanced and critical analysis, as well as more sophisticated language, to create a richer and more engaging reading experience.\\n\\n**Strengths:**\\n\\n* The essay provides a more in-depth analysis of the novella\\'s themes and their relevance to modern life, demonstrating a clear understanding of the text.\\n* The writer effectively uses quotes and examples from the novella to support their arguments, adding depth and complexity to the analysis.\\n* The essay is well-structured and easy to follow, with a clear introduction, body, and conclusion.\\n* The writer has incorporated more nuanced and critical language, creating a more sophisticated and engaging reading experience.\\n\\n**Weaknesses:**\\n\\n* Some paragraphs could still be more tightly linked, with more transitional phrases and sentences to guide the reader through the essay.\\n* While the essay is well-written, there are moments where the language feels a bit generic or cliche (e.g., \"timeless classic,\" \"universal themes\"). The writer could benefit from using more original and precise language to convey their ideas.\\n* The essay could benefit from more explicit connections to contemporary issues or debates, to further illustrate the novella\\'s ongoing relevance.\\n\\n**Recommendations:**\\n\\n1. **Continue to refine the analysis**: To further improve the essay, the writer should continue to refine their analysis, exploring more complex and nuanced aspects of the novella\\'s themes and their relevance to modern life.\\n2. **Use more original and precise language**: To create a more distinctive and engaging reading experience, the writer should strive to use more original and precise language, avoiding generic or cliche expressions.\\n3. **Improve cohesion and linking**: To enhance the essay\\'s flow and cohesion, the writer should use more transitional phrases and sentences to connect the different paragraphs and ideas.\\n4. **Make explicit connections to contemporary issues**: To further illustrate the novella\\'s ongoing relevance, the writer should make more explicit connections to contemporary issues or debates, demonstrating the text\\'s continued significance in modern life.\\n\\n**Specific Requests:**\\n\\n* Expand the essay to around 1000-1200 words to allow for further exploration of the novella\\'s themes and their relevance to modern life.\\n* Incorporate more specific and detailed examples from the novella to support the writer\\'s arguments.\\n* Use more nuanced and critical language to analyze the novella\\'s themes and their relevance to modern life.\\n* Consider incorporating more contemporary references or examples to illustrate the novella\\'s ongoing relevance, such as connections to current events, social media, or cultural trends.\\n\\nBy implementing these recommendations, the writer can continue to refine their analysis and create an even more sophisticated and engaging essay that showcases their understanding of \"The Little Prince\" and its ongoing relevance to modern life.', additional_kwargs={}, response_metadata={}, id='0c890523-7679-44b9-a320-e75ec7a5d359')]}}\n",
            "---\n",
            "{'generate': {'messages': [AIMessage(content='The novella \"The Little Prince\" by Antoine de Saint-Exupéry has been a cherished tale since its publication in 1943, captivating readers with its poignant and profound exploration of the human condition. As a scathing critique of modern society\\'s values and priorities, \"The Little Prince\" remains remarkably topical, and its message continues to resonate with readers of all ages in modern life. One of the primary reasons for its enduring relevance is its thoughtful examination of the complexities and nuances of human relationships, which transcends time and cultural boundaries. By delving into the novella\\'s themes and their relevance to contemporary issues, we can gain a deeper understanding of the ongoing significance of \"The Little Prince\" in modern life.\\n\\nAt its core, \"The Little Prince\" is a nuanced critique of the superficiality and materialism that can pervade human relationships. The little prince\\'s encounters with various characters on his journey serve as a commentary on the ways in which adults often prioritize trivial pursuits over meaningful connections. For instance, the businessman\\'s obsessive counting of stars, which he believes he owns, is a potent symbol of the ways in which material possessions and wealth can become all-consuming. As the little prince observes, \"You adults are quite ridiculous... You love numbers, but you don\\'t love the things that numbers represent.\" This critique is particularly relevant in today\\'s society, where the proliferation of social media has created a culture of curated perfection, and individuals are increasingly encouraged to prioritize their online persona over their real-life relationships. The rise of influencer culture, for example, has led to a proliferation of individuals who prioritize their online presence over genuine human connections, highlighting the ongoing relevance of the novella\\'s critique.\\n\\nFurthermore, the novella\\'s exploration of the tension between individuality and conformity is a theme that remains highly relevant in today\\'s society. The little prince\\'s unique perspective and experiences are often at odds with the conventional wisdom of the adults he meets on his journey, highlighting the importance of staying true to one\\'s own values and passions. As the fox tells the little prince, \"You become responsible, forever, for what you have tamed.\" This message is particularly relevant in an era where there is increasing pressure to conform to societal norms and expectations, and individuals are often encouraged to prioritize their professional or social status over their personal values and aspirations. The cult of productivity, for instance, has led to a culture where individuals are encouraged to prioritize their work above all else, often at the expense of their mental and emotional well-being. By embracing individuality and nonconformity, we can foster a more authentic and innovative culture, where people are encouraged to think for themselves and challenge the status quo.\\n\\nThe little prince\\'s relationship with the rose also highlights the complexities of human emotions and relationships. The little prince\\'s love for the rose is a powerful example of the ways in which emotional connection can be both a source of joy and a source of pain. As the little prince comes to realize, \"It is the time you have wasted for your rose that makes your rose so important.\" This message is particularly relevant in today\\'s society, where people are increasingly encouraged to prioritize their emotional well-being and cultivate meaningful relationships. The growing awareness of mental health, for instance, has led to a greater emphasis on the importance of emotional connection and vulnerability in human relationships. By exploring the complexities of human emotions and relationships, \"The Little Prince\" provides a nuanced and thought-provoking examination of what it means to be human.\\n\\nIn conclusion, \"The Little Prince\" is a masterpiece of literature that continues to captivate readers with its profound and poignant exploration of the human condition. The novella\\'s examination of human relationships, individuality, and the importance of slowing down in a fast-paced world makes it a remarkably topical work for modern life. As readers continue to be drawn to the little prince\\'s journey, they are reminded of the value of simplicity, vulnerability, and genuine connection. By heeding the lessons of \"The Little Prince,\" we can cultivate a more authentic, compassionate, and meaningful way of living, one that prioritizes what truly matters in life. Ultimately, the novella\\'s ongoing relevance is a testament to the power of literature to transcend time and cultural boundaries, speaking to fundamental aspects of the human experience that remain unchanged despite the passage of time. As such, \"The Little Prince\" remains an essential work for readers of all ages, offering a profound and thought-provoking exploration of what it means to be human. Moreover, its continued relevance serves as a reminder of the importance of preserving and celebrating our literary heritage, and of the ongoing need for stories that challenge and inspire us to be our best selves.', additional_kwargs={}, response_metadata={'token_usage': {'prompt_tokens': 2825, 'total_tokens': 3764, 'completion_tokens': 939}, 'model_name': 'accounts/fireworks/models/llama4-maverick-instruct-basic', 'system_fingerprint': '', 'finish_reason': 'stop', 'logprobs': None}, id='run-7c092f5e-53b8-44a9-a2ee-d3e6716b0b3b-0', usage_metadata={'input_tokens': 2825, 'output_tokens': 939, 'total_tokens': 3764})]}}\n",
            "---\n",
            "{'reflect': {'messages': [HumanMessage(content='**Critique and Recommendations**\\n\\nThe revised essay demonstrates significant improvements in terms of depth, analysis, and style. The writer has effectively incorporated more nuanced and critical analysis, as well as more sophisticated language, to create a richer and more engaging reading experience.\\n\\n**Strengths:**\\n\\n* The essay provides a thorough and nuanced analysis of the novella\\'s themes and their relevance to modern life, demonstrating a clear understanding of the text.\\n* The writer effectively uses quotes and examples from the novella to support their arguments, adding depth and complexity to the analysis.\\n* The essay is well-structured and easy to follow, with a clear introduction, body, and conclusion.\\n* The writer has incorporated more contemporary references and examples, such as social media, influencer culture, and the cult of productivity, to illustrate the novella\\'s ongoing relevance.\\n* The essay demonstrates a strong command of language, with sophisticated vocabulary and sentence structures.\\n\\n**Weaknesses:**\\n\\n* While the essay is well-written, there are moments where the language feels a bit overly elaborate or ornate. The writer should strive for a balance between sophistication and clarity.\\n* Some paragraphs could still be more tightly linked, with more transitional phrases and sentences to guide the reader through the essay.\\n\\n**Recommendations:**\\n\\n1. **Refine the language**: To further improve the essay, the writer should strive for a balance between sophistication and clarity, avoiding overly elaborate or ornate language.\\n2. **Improve cohesion and linking**: To enhance the essay\\'s flow and cohesion, the writer should use more transitional phrases and sentences to connect the different paragraphs and ideas.\\n3. **Consider alternative perspectives**: To add depth and complexity to the essay, the writer could consider alternative perspectives on the novella\\'s themes and their relevance to modern life, such as potential counterarguments or criticisms.\\n\\n**Specific Requests:**\\n\\n* Expand the essay to around 1200-1500 words to allow for further exploration of the novella\\'s themes and their relevance to modern life.\\n* Continue to incorporate more contemporary references and examples to illustrate the novella\\'s ongoing relevance.\\n* Use more nuanced and critical language to analyze the novella\\'s themes and their relevance to modern life.\\n* Consider incorporating more explicit connections to theoretical or critical frameworks, such as postmodernism or critical theory, to further contextualize the novella\\'s themes and their relevance to modern life.\\n\\nBy implementing these recommendations, the writer can continue to refine their analysis and create an even more sophisticated and engaging essay that showcases their understanding of \"The Little Prince\" and its ongoing relevance to modern life.', additional_kwargs={}, response_metadata={}, id='54f79bb4-5624-49cc-9098-8fbe278d22f5')]}}\n",
            "---\n",
            "{'generate': {'messages': [AIMessage(content='The novella \"The Little Prince\" by Antoine de Saint-Exupéry has been a cherished tale since its publication in 1943, captivating readers with its poignant and profound exploration of the human condition. As a scathing critique of modern society\\'s values and priorities, \"The Little Prince\" remains remarkably topical, and its message continues to resonate with readers of all ages in modern life. One of the primary reasons for its enduring relevance is its thoughtful examination of the complexities and nuances of human relationships, which transcends time and cultural boundaries. By delving into the novella\\'s themes and their relevance to contemporary issues, we can gain a deeper understanding of the ongoing significance of \"The Little Prince\" in modern life.\\n\\nAt its core, \"The Little Prince\" is a nuanced critique of the superficiality and materialism that can pervade human relationships. The little prince\\'s encounters with various characters on his journey serve as a commentary on the ways in which adults often prioritize trivial pursuits over meaningful connections. For instance, the businessman\\'s obsessive counting of stars, which he believes he owns, is a potent symbol of the ways in which material possessions and wealth can become all-consuming. As the little prince observes, \"You adults are quite ridiculous... You love numbers, but you don\\'t love the things that numbers represent.\" This critique is particularly relevant in today\\'s society, where the proliferation of social media has created a culture of curated perfection, and individuals are increasingly encouraged to prioritize their online persona over their real-life relationships. The rise of influencer culture, for example, has led to a proliferation of individuals who prioritize their online presence over genuine human connections, highlighting the ongoing relevance of the novella\\'s critique. Furthermore, the emphasis on material possessions and wealth is also reflected in the ways in which modern capitalism perpetuates a culture of consumption and disposability, where individuals are encouraged to constantly acquire and discard goods and services.\\n\\nFurthermore, the novella\\'s exploration of the tension between individuality and conformity is a theme that remains highly relevant in today\\'s society. The little prince\\'s unique perspective and experiences are often at odds with the conventional wisdom of the adults he meets on his journey, highlighting the importance of staying true to one\\'s own values and passions. As the fox tells the little prince, \"You become responsible, forever, for what you have tamed.\" This message is particularly relevant in an era where there is increasing pressure to conform to societal norms and expectations, and individuals are often encouraged to prioritize their professional or social status over their personal values and aspirations. The cult of productivity, for instance, has led to a culture where individuals are encouraged to prioritize their work above all else, often at the expense of their mental and emotional well-being. By embracing individuality and nonconformity, we can foster a more authentic and innovative culture, where people are encouraged to think for themselves and challenge the status quo. Moreover, this emphasis on individuality and nonconformity is also reflected in the ways in which contemporary social movements, such as the LGBTQ+ rights movement, prioritize self-expression and authenticity.\\n\\nThe little prince\\'s relationship with the rose also highlights the complexities of human emotions and relationships. The little prince\\'s love for the rose is a powerful example of the ways in which emotional connection can be both a source of joy and a source of pain. As the little prince comes to realize, \"It is the time you have wasted for your rose that makes your rose so important.\" This message is particularly relevant in today\\'s society, where people are increasingly encouraged to prioritize their emotional well-being and cultivate meaningful relationships. The growing awareness of mental health, for instance, has led to a greater emphasis on the importance of emotional connection and vulnerability in human relationships. By exploring the complexities of human emotions and relationships, \"The Little Prince\" provides a nuanced and thought-provoking examination of what it means to be human. Additionally, this emphasis on emotional connection and vulnerability is also reflected in the ways in which contemporary psychotherapeutic practices, such as attachment theory, prioritize the importance of emotional intimacy and connection in human relationships.\\n\\nIn addition to its exploration of human relationships and individuality, \"The Little Prince\" also offers a scathing critique of the ways in which modern society prioritizes efficiency and productivity over human connection and well-being. The little prince\\'s encounters with the railway switchman and the merchant who sells pills that quench thirst, for example, highlight the absurdity of a culture that prioritizes speed and convenience over human experience. As the little prince observes, \"One sees clearly only with the heart. Anything essential is invisible to the eyes.\" This message is particularly relevant in today\\'s society, where the emphasis on technological advancement and efficiency has led to a culture of haste and distraction. By slowing down and prioritizing human connection and experience, we can cultivate a more authentic and meaningful way of living.\\n\\nIn conclusion, \"The Little Prince\" is a masterpiece of literature that continues to captivate readers with its profound and poignant exploration of the human condition. The novella\\'s examination of human relationships, individuality, and the importance of slowing down in a fast-paced world makes it a remarkably topical work for modern life. As readers continue to be drawn to the little prince\\'s journey, they are reminded of the value of simplicity, vulnerability, and genuine connection. By heeding the lessons of \"The Little Prince,\" we can cultivate a more authentic, compassionate, and meaningful way of living, one that prioritizes what truly matters in life. Ultimately, the novella\\'s ongoing relevance is a testament to the power of literature to transcend time and cultural boundaries, speaking to fundamental aspects of the human experience that remain unchanged despite the passage of time. As such, \"The Little Prince\" remains an essential work for readers of all ages, offering a profound and thought-provoking exploration of what it means to be human. Moreover, its continued relevance serves as a reminder of the importance of preserving and celebrating our literary heritage, and of the ongoing need for stories that challenge and inspire us to be our best selves.', additional_kwargs={}, response_metadata={'token_usage': {'prompt_tokens': 4286, 'total_tokens': 5499, 'completion_tokens': 1213}, 'model_name': 'accounts/fireworks/models/llama4-maverick-instruct-basic', 'system_fingerprint': '', 'finish_reason': 'stop', 'logprobs': None}, id='run-63db4630-cbc4-4927-81bb-79c84919ec02-0', usage_metadata={'input_tokens': 4286, 'output_tokens': 1213, 'total_tokens': 5499})]}}\n",
            "---\n"
          ]
        }
      ],
      "source": [
        "async for event in graph.astream(\n",
        "    {\n",
        "        \"messages\": [\n",
        "            HumanMessage(\n",
        "                content=\"Generate an essay on the topicality of The Little Prince and its message in modern life\"\n",
        "            )\n",
        "        ],\n",
        "    },\n",
        "    config,\n",
        "):\n",
        "    print(event)\n",
        "    print(\"---\")"
      ]
    },
    {
      "cell_type": "code",
      "execution_count": null,
      "id": "ced83251-8edc-483d-a03f-5bd884ea8d28",
      "metadata": {
        "id": "ced83251-8edc-483d-a03f-5bd884ea8d28"
      },
      "outputs": [],
      "source": [
        "state = graph.get_state(config)"
      ]
    },
    {
      "cell_type": "code",
      "execution_count": null,
      "id": "394bf0df-fc28-4104-a278-a56c9cb8b10c",
      "metadata": {
        "id": "394bf0df-fc28-4104-a278-a56c9cb8b10c",
        "outputId": "d5db370e-dc2a-4010-c700-e4da9b9def9d"
      },
      "outputs": [
        {
          "name": "stdout",
          "output_type": "stream",
          "text": [
            "================================\u001b[1m Human Message \u001b[0m=================================\n",
            "\n",
            "Generate an essay on the topicality of The Little Prince and its message in modern life\n",
            "\n",
            "==================================\u001b[1m Ai Message \u001b[0m==================================\n",
            "\n",
            "Title: The Little Prince: A Topical Allegory for Modern Life\n",
            "\n",
            "Introduction:\n",
            "Antoine de Saint-Exupéry's \"The Little Prince\" is a classic novella that has captured the hearts of millions since its publication in 1943. While it might be easy to dismiss this work as a children's story, its profound themes and timeless message make it a relevant and topical piece in modern life. This essay will explore the allegorical nature of \"The Little Prince\" and discuss how its message can be applied to the complexities of the modern world.\n",
            "\n",
            "Body Paragraph 1 - The Allegory of the Little Prince:\n",
            "\"The Little Prince\" is an allegorical tale that explores various aspects of the human condition through its whimsical characters and situations. The Little Prince himself represents innocence, curiosity, and the importance of human connection. As the story unfolds, readers encounter different characters that symbolize various aspects of adult life, such as vanity, materialism, and authority. These representations allow the story to transcend age and culture, making it relatable to a wide range of readers, even in the modern context.\n",
            "\n",
            "Body Paragraph 2 - The Relevance of the Little Prince's Message:\n",
            "The Little Prince's message is centered around the importance of looking beyond superficial appearances and forming meaningful connections with others. In a world increasingly dominated by technology and social media, where surface-level interactions are commonplace, this message is more relevant than ever. The Little Prince encourages readers to cherish and nurture genuine relationships, reminding us that true happiness and fulfillment come from understanding and empathizing with others.\n",
            "\n",
            "Body Paragraph 3 - The Critique of Modern Society:\n",
            "\"The Little Prince\" also offers a critique of modern society, highlighting the dangers of materialism, consumerism, and the pursuit of power. These themes resonate strongly in today's world, where wealth inequality and environmental degradation are pressing issues. The story serves as a reminder that the pursuit of material possessions and status often comes at the expense of our own happiness and the well-being of our planet.\n",
            "\n",
            "Conclusion:\n",
            "In conclusion, \"The Little Prince\" remains a topical and relevant work in modern life due to its allegorical nature, timeless message, and critique of modern society. Its exploration of human connections, materialism, and the pursuit of power offers valuable insights for readers of all ages. By embracing the story's wisdom, we can better navigate the complexities of the modern world and foster a more compassionate, sustainable, and interconnected society.\n",
            "\n",
            "================================\u001b[1m Human Message \u001b[0m=================================\n",
            "\n",
            "Essay Critique and Recommendations:\n",
            "\n",
            "Title: The Little Prince: A Topical Allegory for Modern Life\n",
            "\n",
            "Introduction:\n",
            "The introduction effectively sets the stage for the essay by providing background information on \"The Little Prince\" and its relevance in modern life. However, consider adding a hook to engage the reader's attention and create a stronger first impression.\n",
            "\n",
            "Body Paragraph 1 - The Allegory of the Little Prince:\n",
            "This paragraph provides a clear explanation of the allegorical nature of \"The Little Prince.\" To enhance this section, consider offering specific examples from the text to illustrate how the characters and situations symbolize various aspects of adult life. This will strengthen your analysis and make it more engaging for the reader.\n",
            "\n",
            "Body Paragraph 2 - The Relevance of the Little Prince's Message:\n",
            "The relevance of the Little Prince's message is well-articulated in this paragraph. To further strengthen your argument, consider discussing the consequences of ignoring this message in the context of modern society. This will help emphasize the importance of the Little Prince's wisdom and its relevance to contemporary issues.\n",
            "\n",
            "Body Paragraph 3 - The Critique of Modern Society:\n",
            "This paragraph effectively highlights the story's critique of modern society. To deepen your analysis, explore how the themes of materialism, consumerism, and the pursuit of power interconnect and contribute to the challenges faced by modern society. Additionally, consider discussing potential solutions or actions inspired by the Little Prince's message that could help address these issues.\n",
            "\n",
            "Conclusion:\n",
            "The conclusion effectively summarizes the main points of the essay and emphasizes the relevance of \"The Little Prince\" in modern life. To further enhance this section, consider incorporating a thought-provoking question or statement that encourages readers to reflect on the story's message and its implications for their own lives.\n",
            "\n",
            "Recommendations:\n",
            "1. Expand the essay to approximately 1,200-1,500 words to allow for a more in-depth analysis.\n",
            "2. Incorporate specific examples and quotes from \"The Little Prince\" to support your arguments and engage the reader.\n",
            "3. Ensure that each body paragraph contains a clear thesis statement, supporting evidence, and analysis.\n",
            "4. Consider discussing counterarguments or potential criticisms of the Little Prince's message to add depth and complexity to your essay.\n",
            "5. Revise and edit the essay for clarity, coherence, and grammar.\n",
            "\n",
            "==================================\u001b[1m Ai Message \u001b[0m==================================\n",
            "\n",
            "Title: The Little Prince: A Topical Allegory for Modern Life\n",
            "\n",
            "Introduction:\n",
            "In Antoine de Saint-Exupéry's classic novella \"The Little Prince,\" a young boy embarks on a journey through the universe, meeting various characters that symbolize different aspects of adult life. This timeless tale, published in 1943, remains incredibly relevant in today's modern world. Its allegorical nature, thought-provoking message, and critique of modern society offer invaluable insights for readers of all ages. This essay will explore the allegory of \"The Little Prince,\" analyze the relevance of its message, and discuss its critique of modern society, demonstrating its topicality in contemporary life.\n",
            "\n",
            "Body Paragraph 1 - The Allegory of the Little Prince:\n",
            "\"The Little Prince\" is an allegorical tale that uses whimsical characters and situations to explore various aspects of the human condition. For instance, the king represents authority without substance, while the businessman embodies the futility of materialism. The fox, conversely, symbolizes the importance of forming genuine connections and nurturing meaningful relationships. These allegorical representations allow the story to transcend age and culture, making it relatable to a wide range of readers, even in the modern context.\n",
            "\n",
            "Body Paragraph 2 - The Relevance of the Little Prince's Message:\n",
            "The Little Prince's message is centered around the importance of looking beyond superficial appearances and forming meaningful connections with others. In a world increasingly dominated by technology and social media, where surface-level interactions are commonplace, this message is more relevant than ever. Neglecting this message can lead to feelings of isolation, loneliness, and dissatisfaction. By embracing the story's wisdom, we can prioritize genuine relationships, fostering a more compassionate and interconnected society.\n",
            "\n",
            "Body Paragraph 3 - The Critique of Modern Society:\n",
            "\"The Little Prince\" offers a critique of modern society, highlighting the dangers of materialism, consumerism, and the pursuit of power. These themes resonate strongly in today's world, where wealth inequality and environmental degradation are pressing issues. The story serves as a reminder that the pursuit of material possessions and status often comes at the expense of our own happiness and the well-being of our planet. To address these challenges, we must reevaluate our priorities, focusing on sustainability, empathy, and the cultivation of meaningful relationships.\n",
            "\n",
            "Conclusion:\n",
            "In conclusion, \"The Little Prince\" remains a topical and relevant work in modern life due to its allegorical nature, timeless message, and critique of modern society. Its exploration of human connections, materialism, and the pursuit of power offers valuable insights for readers of all ages. By embracing the story's wisdom, we can better navigate the complexities of the modern world and foster a more compassionate, sustainable, and interconnected society. As the Little Prince so eloquently states, \"What is essential is invisible to the eye,\" reminding us that true happiness and fulfillment come from understanding and empathizing with others.\n",
            "\n",
            "Expanded Essay Recommendations:\n",
            "\n",
            "1. Expand the essay to approximately 1,200-1,500 words to allow for a more in-depth analysis.\n",
            "2. Incorporate specific examples and quotes from \"The Little Prince\" to support your arguments and engage the reader. For instance, use quotes like, \"You become responsible, forever, for what you have tamed,\" to emphasize the importance of forming genuine connections.\n",
            "3. Ensure that each body paragraph contains a clear thesis statement, supporting evidence, and analysis.\n",
            "4. Consider discussing counterarguments or potential criticisms of the Little Prince's message to add depth and complexity to your essay. For example, explore the idea that the pursuit of material possessions can provide a sense of security and comfort.\n",
            "5. Revise and edit the essay for clarity, coherence, and grammar. Ensure that transitions between paragraphs are smooth and that your arguments flow logically.\n",
            "\n",
            "================================\u001b[1m Human Message \u001b[0m=================================\n",
            "\n",
            "Your revised essay demonstrates a clear understanding of the assignment and the source material. Here are some additional recommendations to further enhance your essay:\n",
            "\n",
            "1. Consider adding more nuance to your analysis of the allegory in Body Paragraph 1. You could explore how the Little Prince himself evolves throughout the story, representing not just innocence and curiosity, but also the capacity for growth and self-discovery.\n",
            "\n",
            "2. In Body Paragraph 2, you could delve deeper into the psychological consequences of neglecting genuine relationships. Research has shown that loneliness and social isolation can have significant impacts on mental and physical health. Incorporating these findings would strengthen your argument about the importance of the Little Prince's message.\n",
            "\n",
            "3. For Body Paragraph 3, you could provide specific examples of how materialism and consumerism contribute to wealth inequality and environmental degradation. This would make your critique of modern society more concrete and compelling.\n",
            "\n",
            "4. In your conclusion, you could discuss how the Little Prince's message can be applied to various aspects of modern life, such as education, politics, and personal relationships. This would demonstrate the wide-ranging relevance of the story and inspire readers to reflect on its implications for their own lives.\n",
            "\n",
            "5. Throughout the essay, make sure to cite secondary sources to support your analysis. This will add credibility to your arguments and demonstrate your engagement with existing scholarship on \"The Little Prince.\"\n",
            "\n",
            "6. Finally, proofread your essay carefully to ensure that it is free of grammatical errors and awkward phrasing. Consider asking a peer or mentor to review your work and provide feedback. A fresh pair of eyes can help you identify areas for improvement and ensure that your essay is polished and professional.\n",
            "\n",
            "==================================\u001b[1m Ai Message \u001b[0m==================================\n",
            "\n",
            "Title: The Little Prince: A Topical Allegory for Modern Life\n",
            "\n",
            "Introduction:\n",
            "Antoine de Saint-Exupéry's \"The Little Prince\" is a timeless novella that has captured the hearts of millions since its publication in 1943. While it might be easy to dismiss this work as a children's story, its profound themes and timeless message make it a relevant and topical piece in modern life. This essay will explore the allegorical nature of \"The Little Prince,\" analyze the psychological and societal consequences of neglecting its message, and discuss its critique of modern society, demonstrating its topicality in contemporary life.\n",
            "\n",
            "Body Paragraph 1 - The Allegory of the Little Prince:\n",
            "\"The Little Prince\" is an allegorical tale that uses whimsical characters and situations to explore various aspects of the human condition. The Little Prince himself represents innocence, curiosity, and the importance of human connection, but he also embodies the capacity for growth and self-discovery. As the story unfolds, readers encounter different characters that symbolize various aspects of adult life, such as vanity, materialism, and authority. These representations allow the story to transcend age and culture, making it relatable to a wide range of readers, even in the modern context.\n",
            "\n",
            "Body Paragraph 2 - The Relevance of the Little Prince's Message:\n",
            "The Little Prince's message is centered around the importance of looking beyond superficial appearances and forming meaningful connections with others. In a world increasingly dominated by technology and social media, where surface-level interactions are commonplace, this message is more relevant than ever. Neglecting this message can lead to feelings of isolation, loneliness, and dissatisfaction, which can have significant impacts on mental and physical health. By embracing the story's wisdom, we can prioritize genuine relationships, fostering a more compassionate and interconnected society.\n",
            "\n",
            "Body Paragraph 3 - The Critique of Modern Society:\n",
            "\"The Little Prince\" offers a critique of modern society, highlighting the dangers of materialism, consumerism, and the pursuit of power. Materialism and consumerism contribute to wealth inequality and environmental degradation by promoting unsustainable practices and exacerbating social and economic disparities. For instance, the overconsumption of resources leads to deforestation, climate change, and the exploitation of marginalized communities. To address these challenges, we must reevaluate our priorities, focusing on sustainability, empathy, and the cultivation of meaningful relationships.\n",
            "\n",
            "Conclusion:\n",
            "In conclusion, \"The Little Prince\" remains a topical and relevant work in modern life due to its allegorical nature, timeless message, and critique of modern society. Its exploration of human connections, materialism, and the pursuit of power offers valuable insights for readers of all ages. The Little Prince's message can be applied to various aspects of modern life, such as education, politics, and personal relationships, inspiring readers to reflect on its implications for their own lives. By embracing the story's wisdom, we can better navigate the complexities of the modern world and foster a more compassionate, sustainable, and interconnected society.\n",
            "\n",
            "To further enhance your essay, consider incorporating secondary sources to support your analysis, and proofread your work carefully to ensure that it is free of grammatical errors and awkward phrasing. A fresh pair of eyes can help you identify areas for improvement and ensure that your essay is polished and professional.\n",
            "\n",
            "================================\u001b[1m Human Message \u001b[0m=================================\n",
            "\n",
            "Thank you for the feedback and recommendations. I have incorporated some of the suggestions to further enhance the essay:\n",
            "\n",
            "Title: The Little Prince: A Topical Allegory for Modern Life\n",
            "\n",
            "Introduction:\n",
            "Antoine de Saint-Exupéry's \"The Little Prince\" is a timeless novella that has captured the hearts of millions since its publication in 1943. While it might be easy to dismiss this work as a children's story, its profound themes and timeless message make it a relevant and topical piece in modern life. This essay will explore the allegorical nature of \"The Little Prince,\" analyze the psychological and societal consequences of neglecting its message, and discuss its critique of modern society, demonstrating its topicality in contemporary life.\n",
            "\n",
            "Body Paragraph 1 - The Allegory of the Little Prince:\n",
            "\"The Little Prince\" is an allegorical tale that uses whimsical characters and situations to explore various aspects of the human condition. The Little Prince himself represents innocence, curiosity, and the importance of human connection, but he also embodies the capacity for growth and self-discovery. As the story unfolds, readers encounter different characters that symbolize various aspects of adult life, such as vanity, materialism, and authority. For instance, the king represents authority without substance, while the businessman embodies the futility of materialism. The fox, conversely, symbolizes the importance of forming genuine connections and nurturing meaningful relationships. These allegorical representations allow the story to transcend age and culture, making it relatable to a wide range of readers, even in the modern context.\n",
            "\n",
            "Body Paragraph 2 - The Relevance of the Little Prince's Message:\n",
            "The Little Prince's message is centered around the importance of looking beyond superficial appearances and forming meaningful connections with others. In a world increasingly dominated by technology and social media, where surface-level interactions are commonplace, this message is more relevant than ever. Neglecting this message can lead to feelings of isolation, loneliness, and dissatisfaction, which can have significant impacts on mental and physical health. Research has shown that loneliness and social isolation can increase the risk of depression, anxiety, and heart disease (Holt-Lunstad, 2015). By embracing the story's wisdom, we can prioritize genuine relationships, fostering a more compassionate and interconnected society.\n",
            "\n",
            "Body Paragraph 3 - The Critique of Modern Society:\n",
            "\"The Little Prince\" offers a critique of modern society, highlighting the dangers of materialism, consumerism, and the pursuit of power. Materialism and consumerism contribute to wealth inequality and environmental degradation by promoting unsustainable practices and exacerbating social and economic disparities. For instance, the overconsumption of resources leads to deforestation, climate change, and the exploitation of marginalized communities (Jackson, 2017). To address these challenges, we must reevaluate our priorities, focusing on sustainability, empathy, and the cultivation of meaningful relationships.\n",
            "\n",
            "Conclusion:\n",
            "In conclusion, \"The Little Prince\" remains a topical and relevant work in modern life due to its allegorical nature, timeless message, and critique of modern society. Its exploration of human connections, materialism, and the pursuit of power offers valuable insights for readers of all ages. The Little Prince's message can be applied to various aspects of modern life, such as education, politics, and personal relationships, inspiring readers to reflect on its implications for their own lives. By embracing the story's wisdom, we can better navigate the complexities of the modern world and foster a more compassionate, sustainable, and interconnected society.\n",
            "\n",
            "References:\n",
            "Holt-Lunstad, J. (2015). The Loneliness Paradox. American Psychological Association.\n",
            "Jackson, T. (2017). Prosperity without Growth: Economics for a Finite Planet. Routledge.\n",
            "\n",
            "==================================\u001b[1m Ai Message \u001b[0m==================================\n",
            "\n",
            "Your revised essay demonstrates a clear understanding of the assignment and the source material, and you have effectively incorporated the suggestions provided. The addition of research findings and specific examples has strengthened your argument and added credibility to your analysis. Your essay now provides a more nuanced exploration of the allegory, the relevance of the Little Prince's message, and the critique of modern society.\n",
            "\n",
            "Here are some final recommendations to further enhance your essay:\n",
            "\n",
            "1. Ensure that your essay adheres to the required citation style (e.g., MLA, APA, or Chicago) and that all in-text citations and references are formatted correctly.\n",
            "2. Double-check your essay for any grammatical errors, awkward phrasing, or unclear sentences. A well-written essay is not only easier to read but also more persuasive and engaging.\n",
            "3. Consider adding a brief introduction to each body paragraph to provide context and guide the reader through your analysis. This will help ensure that your essay flows logically and that your arguments are easy to follow.\n",
            "4. As a final step, ask a peer or mentor to review your work and provide feedback. A fresh pair of eyes can help you identify areas for improvement and ensure that your essay is polished and professional.\n",
            "\n",
            "Overall, your essay provides a thoughtful and engaging exploration of \"The Little Prince\" and its relevance in modern life. By incorporating the recommendations provided, you can further enhance your analysis and create a truly exceptional piece of writing.\n"
          ]
        }
      ],
      "source": [
        "ChatPromptTemplate.from_messages(state.values[\"messages\"]).pretty_print()"
      ]
    },
    {
      "cell_type": "markdown",
      "id": "0fa62df2-e8ee-40dd-ac95-9d982eae6079",
      "metadata": {
        "jp-MarkdownHeadingCollapsed": true,
        "id": "0fa62df2-e8ee-40dd-ac95-9d982eae6079"
      },
      "source": [
        "## Conclusion\n",
        "\n",
        "Now that you've applied reflection to an LLM agent, I'll note one thing: self-reflection is inherently cyclic: it is much more effective if the reflection step has additional context or feedback (from tool observations, checks, etc.). If, like in the scenario above, the reflection step simply prompts the LLM to reflect on its output, it can still benefit the output quality (since the LLM then has multiple \"shots\" at getting a good output), but it's less guaranteed.\n"
      ]
    }
  ],
  "metadata": {
    "kernelspec": {
      "display_name": "Python 3 (ipykernel)",
      "language": "python",
      "name": "python3"
    },
    "language_info": {
      "codemirror_mode": {
        "name": "ipython",
        "version": 3
      },
      "file_extension": ".py",
      "mimetype": "text/x-python",
      "name": "python",
      "nbconvert_exporter": "python",
      "pygments_lexer": "ipython3",
      "version": "3.11.9"
    },
    "colab": {
      "provenance": []
    }
  },
  "nbformat": 4,
  "nbformat_minor": 5
}